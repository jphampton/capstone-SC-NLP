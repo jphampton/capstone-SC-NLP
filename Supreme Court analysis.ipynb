{
 "cells": [
  {
   "cell_type": "code",
   "execution_count": 224,
   "metadata": {},
   "outputs": [],
   "source": [
    "import pandas as pd\n",
    "import glob\n",
    "import numpy as np\n",
    "import re\n",
    "import string\n",
    "import time\n",
    "from sklearn.feature_extraction.text import CountVectorizer, TfidfVectorizer\n",
    "from sklearn.naive_bayes import GaussianNB, BernoulliNB, MultinomialNB\n",
    "from sklearn.model_selection import train_test_split, GridSearchCV\n",
    "from sklearn.metrics import confusion_matrix, precision_score, recall_score,\\\n",
    "    f1_score, roc_curve, roc_auc_score, average_precision_score,classification_report,accuracy_score\n",
    "import matplotlib.pyplot as plt\n",
    "import seaborn as sns\n",
    "from sklearn.preprocessing import LabelEncoder\n",
    "from sklearn.pipeline import Pipeline\n",
    "import itertools\n",
    "import gensim\n",
    "from gensim.parsing.preprocessing import preprocess_string\n",
    "from gensim.models.doc2vec import Doc2Vec, TaggedDocument\n",
    "from nltk.tokenize import word_tokenize, sent_tokenize\n",
    "\n",
    "%matplotlib inline"
   ]
  },
  {
   "cell_type": "markdown",
   "metadata": {},
   "source": [
    "# Table of contents\n",
    "\n",
    "#### 1. Functions\n",
    "\n",
    "This section contains all of the functions I use in the later sections\n",
    "\n",
    "#### 2. Loading and preprocessing data\n",
    "\n",
    "Here I prepare the features I'll use for modeling in the later steps\n",
    "\n",
    "#### 3. Word importances with tf-idf\n",
    "\n",
    "This one's just for fun.  It's neat to see the important words pop out from the tf-idf vectorizer.\n",
    "\n",
    "#### 4. Authorship prediction via Naive Bayes\n",
    "\n",
    "I compute a giant family of Bernoulli Naive Bayes models, one for each pair of justices with more than 20 opinions in my dataframe.\n",
    "\n",
    "#### 5. Multi-authorship Detection via Function-Word Frequency Analysis\n",
    "\n",
    "I compute Rosenthal's chi-squared statistic and use it to generate 95% confidence intervals.  I then plot the results, that is, which justices can be said with at least 95% confidence to have more (or less) variance than another justice.\n",
    "\n",
    "#### 6. Document Similarity using doc2vec (gensim)\n",
    "\n",
    "I use gensim's doc2vec to compute document similarities."
   ]
  },
  {
   "cell_type": "code",
   "execution_count": 3,
   "metadata": {},
   "outputs": [],
   "source": [
    "# Get the names of every identified author from web-scraped files\n",
    "def get_judges(path):\n",
    "    sub_d = glob.glob(path+\"/volume*/*\")\n",
    "    regex = r\"/volume\\d+/([A-Z\\d]+)\"\n",
    "    names = set()\n",
    "    for directory in sub_d:\n",
    "        name = re.search(regex, directory)\n",
    "        if name:\n",
    "            names.add(name[1])\n",
    "    return names"
   ]
  },
  {
   "cell_type": "code",
   "execution_count": 4,
   "metadata": {},
   "outputs": [],
   "source": [
    "# Get filepaths to opinions written by given author\n",
    "def get_justice(author):\n",
    "    cases = glob.glob(f'your/path/here/usscj/*/{author}/*')\n",
    "    return cases"
   ]
  },
  {
   "cell_type": "code",
   "execution_count": 5,
   "metadata": {},
   "outputs": [],
   "source": [
    "# Return dataframe containin given author's opinions, labeled with author's name and the appropriate\n",
    "# volume and case for the opinion.\n",
    "def author_df(author):\n",
    "    paths = get_justice(author)\n",
    "    df = pd.DataFrame()\n",
    "    for path in paths:\n",
    "        with open(path, 'rb') as f:\n",
    "            text = f.read()\n",
    "        text = text.decode('latin1')\n",
    "        # Find volume and case numbers from filenames\n",
    "        regex = r\"thecase(?P<vol>\\d+?)-(?P<case>[\\d\\-]+)\"\n",
    "        results = re.search(regex, path)\n",
    "        row = pd.Series([author,results[1],results[2], text], index = ['Author','Volume','Case','Text'])\n",
    "        df = df.append(row, ignore_index = True)\n",
    "    return df"
   ]
  },
  {
   "cell_type": "code",
   "execution_count": 6,
   "metadata": {},
   "outputs": [],
   "source": [
    "# Return the labels of the largest 10 elements in the series.\n",
    "def top_10cols(series):\n",
    "    return pd.Series(series.sort_values(ascending=False).index[:10])"
   ]
  },
  {
   "cell_type": "code",
   "execution_count": 7,
   "metadata": {},
   "outputs": [],
   "source": [
    "# Return train-test splits for the given judges' opinions from the given dataframe\n",
    "def compare_sets(judge_1, judge_2, df, strat = True):\n",
    "    judges_df = df[(df['Author'] == judge_1) | (df['Author']==judge_2)]\n",
    "    # Use text features with the author's identity removed\n",
    "    X = judges_df['masked_text']\n",
    "    y = (judges_df['Author']==judge_1).astype(int)\n",
    "    if strat:\n",
    "        return train_test_split(X,y,stratify=y)\n",
    "    else:\n",
    "        return train_test_split(X,y)"
   ]
  },
  {
   "cell_type": "code",
   "execution_count": 80,
   "metadata": {},
   "outputs": [],
   "source": [
    "# Use a Naive Bayes estimator to classify opinions as either judge_1's or judge_2's\n",
    "def compare_judges(judge_1, judge_2, df):\n",
    "    X_train, X_test, y_train, y_test = compare_sets(judge_1, judge_2, df)\n",
    "    # Build a pipeline for analysis.  \n",
    "    # First vectorize the opinions to get text features\n",
    "    # Then apply a Naive Bayes estimator\n",
    "    vec_pipe = Pipeline(steps = [\n",
    "        ('tf', TfidfVectorizer()),\n",
    "        ('bnb', BernoulliNB())\n",
    "    ])\n",
    "\n",
    "    params = {\n",
    "        # Including ngram ranges \"double dips\" on some features, so we'll only search over single ngram values.\n",
    "        'tf__ngram_range':[(1,1),(2,2),(3,3)], \n",
    "        # Text features often run in the thousands or tens of thousands, but the model I'm comparing to\n",
    "        # has a much narrower feature set of 63 1-gram features.  \n",
    "        # I decided a (relatively) narrow feature set would be preferable.\n",
    "        'tf__max_features':[500],\n",
    "        # Tiny alpha values performed much better in Naive Bayes models.  \n",
    "        # There's a lot of comparisons to do, so I picked a single small value.\n",
    "        'bnb__alpha':[0.001],\n",
    "        # The ideal value for maximum document frequency varied between different pairs of judges,\n",
    "        # but this massively extends training time, so I picked a relatively small and equally-spaced\n",
    "        # set of values.\n",
    "        'tf__max_df':[0.25, 0.5, 0.75,1.0],\n",
    "        # Stop words can be useful in 2-grams and 3-grams, but sometimes they're just noise.\n",
    "        'tf__stop_words':[None, 'english']\n",
    "    }\n",
    "    gs_vec = GridSearchCV(vec_pipe,params, scoring= 'roc_auc')\n",
    "    gs_vec.fit(X_train,y_train)\n",
    "    probs = gs_vec.predict_proba(X_test)[:,1]\n",
    "    preds = gs_vec.predict(X_test)\n",
    "    return y_test, probs, preds, gs_vec.best_params_['tf__ngram_range']\n",
    "    "
   ]
  },
  {
   "cell_type": "code",
   "execution_count": null,
   "metadata": {},
   "outputs": [],
   "source": [
    "def display_results(true, probs, preds, judge_1, judge_2):\n",
    "    print(f\"{judge_1} vs {judge_2} SUMMARY\\n\")\n",
    "    fpr, tpr, thresh = roc_curve(y_test,probs,drop_intermediate = True)\n",
    "    plt.plot(fpr, tpr)\n",
    "    plt.title(f\"ROC curve | {judge_1} vs {judge_2} predictions\")\n",
    "    print(f\"ROC-AUC:{roc_auc_score(y_test, probs)}\")\n",
    "    print(f\"{classification_report(y_test,preds)}\")\n",
    "    print(f\"Best parameters: {gs_vec.best_params_}\")"
   ]
  },
  {
   "cell_type": "code",
   "execution_count": 122,
   "metadata": {},
   "outputs": [],
   "source": [
    "def compare_all(df,min_cases = 20):\n",
    "    judges = df['Author'].unique()\n",
    "    to_compare = []\n",
    "    for judge in judges:\n",
    "        if df['Author'].value_counts()[judge] > 20:\n",
    "            to_compare.append(judge)\n",
    "    pairs = itertools.combinations(to_compare, 2)\n",
    "    results = dict()\n",
    "    for (judge_1, judge_2) in pairs:\n",
    "        true, probs, preds, ngrams = compare_judges(judge_1, judge_2, full_df)\n",
    "        if results.get(judge_1):\n",
    "            results[judge_1][judge_2] = [true, probs, preds, ngrams]\n",
    "        else:\n",
    "            results[judge_1] = {judge_2: [true, probs, preds, ngrams]}\n",
    "        if results.get(judge_2):\n",
    "            results[judge_2][judge_1] = [true, probs, preds, ngrams]\n",
    "        else:\n",
    "            results[judge_2] = {judge_1:[true, probs, preds, ngrams]}\n",
    "    return results"
   ]
  },
  {
   "cell_type": "code",
   "execution_count": 22,
   "metadata": {},
   "outputs": [],
   "source": [
    "# Prepare text for doc2vec\n",
    "# Label with opinion-unique identifier\n",
    "def tag(docs):\n",
    "    for i,text in enumerate(docs):\n",
    "        yield TaggedDocument(gensim.utils.simple_preprocess(text), [i])"
   ]
  },
  {
   "cell_type": "code",
   "execution_count": 14,
   "metadata": {},
   "outputs": [],
   "source": [
    "def best_ngrams(model):\n",
    "    score_dict = dict()\n",
    "    score_dict[1] = 0\n",
    "    score_dict[2] = 0\n",
    "    score_dict[3] = 0\n",
    "    score_dict[123] = 0\n",
    "    for score, param_dict in zip(model.cv_results_['mean_test_score'],model.cv_results_['params']):\n",
    "        if param_dict['tf__ngram_range'] == (1,1):\n",
    "            score_dict[1] = max(score_dict[1], score)\n",
    "        elif param_dict['tf__ngram_range'] == (2,2):\n",
    "            score_dict[2] = max(score_dict[2], score)\n",
    "        elif param_dict['tf__ngram_range'] == (3,3):\n",
    "            score_dict[3] = max(score_dict[3], score)\n",
    "        elif param_dict['tf__ngram_range'] == (1,3):\n",
    "            score_dict[123] = max(score_dict[123], score)\n",
    "    return score_dict"
   ]
  },
  {
   "cell_type": "code",
   "execution_count": 72,
   "metadata": {},
   "outputs": [],
   "source": [
    "# Retrieve index of given opinion\n",
    "def get_index(vol, case):\n",
    "    return full_df.index[(full_df['Volume'] == str(vol)) & (full_df['Case']==str(case))][0]\n",
    "\n",
    "lawrence_v_texas = get_index(539,558)\n",
    "dc_v_heller = get_index(554, 570)\n",
    "citizens_united = get_index(558,310)"
   ]
  },
  {
   "cell_type": "markdown",
   "metadata": {},
   "source": [
    "### Preprocessing and Loading Data"
   ]
  },
  {
   "cell_type": "code",
   "execution_count": 15,
   "metadata": {},
   "outputs": [
    {
     "data": {
      "text/plain": [
       "SCALIA       274\n",
       "KENNEDY      271\n",
       "STEVENS      232\n",
       "OCONNOR      215\n",
       "THOMAS       211\n",
       "REHNQUIST    210\n",
       "GINSBURG     200\n",
       "BREYER       189\n",
       "SOUTER       153\n",
       "WHITE        111\n",
       "BLACKMUN      93\n",
       "ROBERTS       91\n",
       "ALITO         89\n",
       "MARSHALL      69\n",
       "SOTOMAYOR     65\n",
       "BRENNAN       60\n",
       "KAGAN         56\n",
       "POWELL        19\n",
       "GORSUCH        7\n",
       "CHIEF          1\n",
       "Name: Author, dtype: int64"
      ]
     },
     "execution_count": 15,
     "metadata": {},
     "output_type": "execute_result"
    }
   ],
   "source": [
    "# make full dataframe\n",
    "judges = get_judges('/your/path/here/usscj')\n",
    "\n",
    "full_df = pd.concat([author_df(judge) for judge in judges],ignore_index=True)\n",
    "\n",
    "# Number of opinions by author\n",
    "full_df['Author'].value_counts()"
   ]
  },
  {
   "cell_type": "code",
   "execution_count": 16,
   "metadata": {},
   "outputs": [],
   "source": [
    "# Ellipses ruin sentence tokenizing.  Convert them to harmless spaces.\n",
    "full_df['Text'] = full_df['Text'].map(lambda x: x.replace(\" . . . \", \" \"))\n",
    "full_df['Text'] = full_df['Text'].map(lambda x: x.replace(\"...\", \" \"))\n",
    "full_df['Text'] = full_df['Text'].map(lambda x: x.replace(\"\\n\",\" \"))"
   ]
  },
  {
   "cell_type": "code",
   "execution_count": 19,
   "metadata": {},
   "outputs": [],
   "source": [
    "# Remove author identifier from text.  \n",
    "regex = r\"(?<=court).*?(?<!M[sr])(?<!Mrs)\\.(.+)\"\n",
    "\n",
    "prog = re.compile(regex, flags = re.IGNORECASE|re.DOTALL)\n",
    "masked_text = full_df['Text'].map(lambda x: prog.search(x)[1])\n",
    "\n",
    "full_df['masked_text'] = masked_text"
   ]
  },
  {
   "cell_type": "code",
   "execution_count": 23,
   "metadata": {
    "scrolled": true
   },
   "outputs": [],
   "source": [
    "# Add tagged docs to dataframe\n",
    "full_df['docs'] = list(tag(full_df['masked_text']))"
   ]
  },
  {
   "cell_type": "markdown",
   "metadata": {},
   "source": [
    "### Word Importances with Tf-Idf\n",
    "\n",
    "For text data, extracting text features usually involves tokenizing a given string into smaller objects (called *tokens*), which then are used in analysis.  This can be done at the sentence-word level, changing \"I threw the ball\" into \"I\", \"threw\", \"the\", and \"ball\", or at the paragraph-sentence or paragraph-word level.\n",
    "\n",
    "Our data are entire documents.  We'll be splitting them into words and then scoring these words based on their importance to that document.  This is frequently done using tf-idf vectorization.\n",
    "Tf-idf refers to * **t**erm **f**requency-**i**nverse **d**ocument **f**requency*.  *Term frequency* refers to how often a term appears in a given document, whereas *document frequency* refers to how often a term appears across each document.  By multiplying the term frequency by the inverse document frequency (technically the log of this value), words are rewarded for appearing frequently in a document but punished for appearing in many other documents."
   ]
  },
  {
   "cell_type": "code",
   "execution_count": 68,
   "metadata": {},
   "outputs": [],
   "source": [
    "# Build a dataframe from the tf-idf results.\n",
    "tf = TfidfVectorizer(stop_words = 'english',max_features = 2500,ngram_range=(1,1))\n",
    "results = tf.fit_transform(full_df['Text'])\n",
    "\n",
    "results_df = pd.DataFrame(results.toarray(),columns = tf.get_feature_names()).apply(top_10cols, axis=1)"
   ]
  },
  {
   "cell_type": "code",
   "execution_count": 70,
   "metadata": {},
   "outputs": [
    {
     "data": {
      "text/plain": [
       "0     liberty\n",
       "1     conduct\n",
       "2         sex\n",
       "3      sexual\n",
       "4        laws\n",
       "5     private\n",
       "6    criminal\n",
       "7     persons\n",
       "8       court\n",
       "9       texas\n",
       "Name: 1235, dtype: object"
      ]
     },
     "execution_count": 70,
     "metadata": {},
     "output_type": "execute_result"
    }
   ],
   "source": [
    "# Civil rights case overturning law criminalizing homosexual sex acts.\n",
    "results_df.iloc[lawrence_v_texas,:]"
   ]
  },
  {
   "cell_type": "code",
   "execution_count": 71,
   "metadata": {},
   "outputs": [
    {
     "data": {
      "text/plain": [
       "0           right\n",
       "1            bear\n",
       "2       amendment\n",
       "3          second\n",
       "4        military\n",
       "5          people\n",
       "6            self\n",
       "7           state\n",
       "8    constitution\n",
       "9          rights\n",
       "Name: 1511, dtype: object"
      ]
     },
     "execution_count": 71,
     "metadata": {},
     "output_type": "execute_result"
    }
   ],
   "source": [
    "# 2nd Amendment case overturning D.C. handgun ban\n",
    "results_df.iloc[dc_v_heller,:]"
   ]
  },
  {
   "cell_type": "code",
   "execution_count": 73,
   "metadata": {},
   "outputs": [
    {
     "data": {
      "text/plain": [
       "0          speech\n",
       "1    corporations\n",
       "2       political\n",
       "3    expenditures\n",
       "4         buckley\n",
       "5       corporate\n",
       "6        citizens\n",
       "7             ban\n",
       "8        election\n",
       "9       candidate\n",
       "Name: 1361, dtype: object"
      ]
     },
     "execution_count": 73,
     "metadata": {},
     "output_type": "execute_result"
    }
   ],
   "source": [
    "# 1st Amendment case finding that corporations have freedom of speech\n",
    "results_df.iloc[citizens_united,:]"
   ]
  },
  {
   "cell_type": "markdown",
   "metadata": {},
   "source": [
    "### Authorship prediction via Naive Bayes\n",
    "\n",
    "The task here is to correctly predict the author of a given opinion.  For simplicity's sake, only two authors at a time will be considered.  Similar predictions were made by Rosenthal and Yoon in their 2011 article [Detecting Multiple Authorship of United States Supreme Court Legal Decisions Using Function Words](https://arxiv.org/pdf/1104.2974.pdf), but their features were 63 specific words.  I'm interested in whether ngrams can outperform their function word analysis.\n",
    "\n",
    "I selected the Naive Bayes family of classifiers for this task to directly compare my results to Rosenthal's.  The Bernoulli Naive Bayes classifier outperformed the Multinomial and Gaussian so thoroughly that I didn't bother to include the others."
   ]
  },
  {
   "cell_type": "code",
   "execution_count": 127,
   "metadata": {
    "scrolled": false
   },
   "outputs": [],
   "source": [
    "# Compute all the pairwise comparison models.  This takes a few hours.\n",
    "nb_results = compare_all(full_df, min_cases = 20)"
   ]
  },
  {
   "cell_type": "code",
   "execution_count": 141,
   "metadata": {},
   "outputs": [
    {
     "data": {
      "text/plain": [
       "{'ALITO': {'BLACKMUN': 0.9981060606060607,\n",
       "  'BRENNAN': 1.0,\n",
       "  'BREYER': 0.9990530303030303,\n",
       "  'GINSBURG': 0.999108734402852,\n",
       "  'KAGAN': 1.0,\n",
       "  'KENNEDY': 0.9618983957219251,\n",
       "  'MARSHALL': 0.9769820971867007,\n",
       "  'OCONNOR': 0.9797979797979799,\n",
       "  'REHNQUIST': 1.0,\n",
       "  'ROBERTS': 0.7648221343873518,\n",
       "  'SCALIA': 0.9696969696969697,\n",
       "  'SOTOMAYOR': 0.7771739130434783,\n",
       "  'SOUTER': 0.9941724941724941,\n",
       "  'STEVENS': 0.9884437596302003,\n",
       "  'THOMAS': 0.83704974271012,\n",
       "  'WHITE': 0.9837662337662338},\n",
       " 'BLACKMUN': {'ALITO': 0.9981060606060607,\n",
       "  'BRENNAN': 0.8916666666666667,\n",
       "  'BREYER': 1.0,\n",
       "  'GINSBURG': 0.9982949701619779,\n",
       "  'KAGAN': 1.0,\n",
       "  'KENNEDY': 0.8452685421994884,\n",
       "  'MARSHALL': 0.946078431372549,\n",
       "  'OCONNOR': 0.859903381642512,\n",
       "  'REHNQUIST': 0.9351927809680065,\n",
       "  'ROBERTS': 0.9924385633270322,\n",
       "  'SCALIA': 0.9924385633270322,\n",
       "  'SOTOMAYOR': 0.9973958333333334,\n",
       "  'SOUTER': 0.9843924191750278,\n",
       "  'STEVENS': 0.9513633014001474,\n",
       "  'THOMAS': 0.9729286300246103,\n",
       "  'WHITE': 0.796583850931677},\n",
       " 'BRENNAN': {'ALITO': 1.0,\n",
       "  'BLACKMUN': 0.8916666666666667,\n",
       "  'BREYER': 1.0,\n",
       "  'GINSBURG': 1.0,\n",
       "  'KAGAN': 0.9904761904761905,\n",
       "  'KENNEDY': 0.9529411764705882,\n",
       "  'MARSHALL': 0.6851851851851851,\n",
       "  'OCONNOR': 0.8944444444444444,\n",
       "  'REHNQUIST': 0.8088050314465408,\n",
       "  'ROBERTS': 0.9594202898550726,\n",
       "  'SCALIA': 0.9217391304347826,\n",
       "  'SOTOMAYOR': 1.0,\n",
       "  'SOUTER': 1.0,\n",
       "  'STEVENS': 0.8229885057471265,\n",
       "  'THOMAS': 0.9641509433962264,\n",
       "  'WHITE': 0.8119047619047619},\n",
       " 'BREYER': {'ALITO': 0.9990530303030303,\n",
       "  'BLACKMUN': 1.0,\n",
       "  'BRENNAN': 1.0,\n",
       "  'GINSBURG': 1.0,\n",
       "  'KAGAN': 1.0,\n",
       "  'KENNEDY': 0.9981226533166458,\n",
       "  'MARSHALL': 1.0,\n",
       "  'OCONNOR': 0.9921197793538219,\n",
       "  'REHNQUIST': 1.0,\n",
       "  'ROBERTS': 1.0,\n",
       "  'SCALIA': 0.9984582176996608,\n",
       "  'SOTOMAYOR': 1.0,\n",
       "  'SOUTER': 1.0,\n",
       "  'STEVENS': 0.9978448275862069,\n",
       "  'THOMAS': 0.9911682055399438,\n",
       "  'WHITE': 0.9878419452887539},\n",
       " 'GINSBURG': {'ALITO': 0.999108734402852,\n",
       "  'BLACKMUN': 0.9982949701619779,\n",
       "  'BRENNAN': 1.0,\n",
       "  'BREYER': 1.0,\n",
       "  'KAGAN': 1.0,\n",
       "  'KENNEDY': 0.9805882352941176,\n",
       "  'MARSHALL': 1.0,\n",
       "  'OCONNOR': 0.9262962962962964,\n",
       "  'REHNQUIST': 0.9981132075471698,\n",
       "  'ROBERTS': 0.9965217391304347,\n",
       "  'SCALIA': 0.9805797101449276,\n",
       "  'SOTOMAYOR': 0.9338235294117647,\n",
       "  'SOUTER': 0.9876923076923076,\n",
       "  'STEVENS': 0.9889655172413794,\n",
       "  'THOMAS': 0.9690566037735848,\n",
       "  'WHITE': 0.98},\n",
       " 'KAGAN': {'ALITO': 1.0,\n",
       "  'BLACKMUN': 1.0,\n",
       "  'BRENNAN': 0.9904761904761905,\n",
       "  'BREYER': 1.0,\n",
       "  'GINSBURG': 1.0,\n",
       "  'KENNEDY': 0.9978991596638656,\n",
       "  'MARSHALL': 0.996031746031746,\n",
       "  'OCONNOR': 1.0,\n",
       "  'REHNQUIST': 0.9946091644204852,\n",
       "  'ROBERTS': 1.0,\n",
       "  'SCALIA': 1.0,\n",
       "  'SOTOMAYOR': 1.0,\n",
       "  'SOUTER': 1.0,\n",
       "  'STEVENS': 1.0,\n",
       "  'THOMAS': 0.9905660377358491,\n",
       "  'WHITE': 1.0},\n",
       " 'KENNEDY': {'ALITO': 0.9618983957219251,\n",
       "  'BLACKMUN': 0.8452685421994884,\n",
       "  'BRENNAN': 0.9529411764705882,\n",
       "  'BREYER': 0.9981226533166458,\n",
       "  'GINSBURG': 0.9805882352941176,\n",
       "  'KAGAN': 0.9978991596638656,\n",
       "  'MARSHALL': 0.8979238754325259,\n",
       "  'OCONNOR': 0.8553921568627452,\n",
       "  'REHNQUIST': 0.8793007769145393,\n",
       "  'ROBERTS': 0.9782608695652173,\n",
       "  'SCALIA': 0.86615515771526,\n",
       "  'SOTOMAYOR': 0.9402573529411765,\n",
       "  'SOUTER': 0.9566563467492261,\n",
       "  'STEVENS': 0.9386409736308317,\n",
       "  'THOMAS': 0.8873473917869035,\n",
       "  'WHITE': 0.8986344537815126},\n",
       " 'MARSHALL': {'ALITO': 0.9769820971867007,\n",
       "  'BLACKMUN': 0.946078431372549,\n",
       "  'BRENNAN': 0.6851851851851851,\n",
       "  'BREYER': 1.0,\n",
       "  'GINSBURG': 1.0,\n",
       "  'KAGAN': 0.996031746031746,\n",
       "  'KENNEDY': 0.8979238754325259,\n",
       "  'OCONNOR': 0.9275599128540305,\n",
       "  'REHNQUIST': 0.9056603773584906,\n",
       "  'ROBERTS': 1.0,\n",
       "  'SCALIA': 0.9752770673486787,\n",
       "  'SOTOMAYOR': 1.0,\n",
       "  'SOUTER': 0.9728506787330315,\n",
       "  'STEVENS': 0.8574277168494516,\n",
       "  'THOMAS': 1.0,\n",
       "  'WHITE': 0.6743697478991597},\n",
       " 'OCONNOR': {'ALITO': 0.9797979797979799,\n",
       "  'BLACKMUN': 0.859903381642512,\n",
       "  'BRENNAN': 0.8944444444444444,\n",
       "  'BREYER': 0.9921197793538219,\n",
       "  'GINSBURG': 0.9262962962962964,\n",
       "  'KAGAN': 1.0,\n",
       "  'KENNEDY': 0.8553921568627452,\n",
       "  'MARSHALL': 0.9275599128540305,\n",
       "  'REHNQUIST': 0.7606568832983928,\n",
       "  'ROBERTS': 0.9702093397745571,\n",
       "  'SCALIA': 0.8424584004294149,\n",
       "  'SOTOMAYOR': 0.9328703703703703,\n",
       "  'SOUTER': 0.919103313840156,\n",
       "  'STEVENS': 0.85727969348659,\n",
       "  'THOMAS': 0.8172606568832984,\n",
       "  'WHITE': 0.8525132275132274},\n",
       " 'REHNQUIST': {'ALITO': 1.0,\n",
       "  'BLACKMUN': 0.9351927809680065,\n",
       "  'BRENNAN': 0.8088050314465408,\n",
       "  'BREYER': 1.0,\n",
       "  'GINSBURG': 0.9981132075471698,\n",
       "  'KAGAN': 0.9946091644204852,\n",
       "  'KENNEDY': 0.8793007769145393,\n",
       "  'MARSHALL': 0.9056603773584906,\n",
       "  'OCONNOR': 0.7606568832983928,\n",
       "  'ROBERTS': 0.9844134536505332,\n",
       "  'SCALIA': 0.9375693673695894,\n",
       "  'SOTOMAYOR': 0.9882075471698113,\n",
       "  'SOUTER': 0.9379344587884807,\n",
       "  'STEVENS': 0.9466493168510085,\n",
       "  'THOMAS': 0.9085083659665362,\n",
       "  'WHITE': 0.8847708894878706},\n",
       " 'ROBERTS': {'ALITO': 0.7648221343873518,\n",
       "  'BLACKMUN': 0.9924385633270322,\n",
       "  'BRENNAN': 0.9594202898550726,\n",
       "  'BREYER': 1.0,\n",
       "  'GINSBURG': 0.9965217391304347,\n",
       "  'KAGAN': 1.0,\n",
       "  'KENNEDY': 0.9782608695652173,\n",
       "  'MARSHALL': 1.0,\n",
       "  'OCONNOR': 0.9702093397745571,\n",
       "  'REHNQUIST': 0.9844134536505332,\n",
       "  'SCALIA': 0.9640831758034027,\n",
       "  'SOTOMAYOR': 0.8233695652173914,\n",
       "  'SOUTER': 0.9977116704805493,\n",
       "  'STEVENS': 0.9662668665667167,\n",
       "  'THOMAS': 0.8826907301066447,\n",
       "  'WHITE': 0.9953416149068324},\n",
       " 'SCALIA': {'ALITO': 0.9696969696969697,\n",
       "  'BLACKMUN': 0.9924385633270322,\n",
       "  'BRENNAN': 0.9217391304347826,\n",
       "  'BREYER': 0.9984582176996608,\n",
       "  'GINSBURG': 0.9805797101449276,\n",
       "  'KAGAN': 1.0,\n",
       "  'KENNEDY': 0.86615515771526,\n",
       "  'MARSHALL': 0.9752770673486787,\n",
       "  'OCONNOR': 0.8424584004294149,\n",
       "  'REHNQUIST': 0.9375693673695894,\n",
       "  'ROBERTS': 0.9640831758034027,\n",
       "  'SOTOMAYOR': 0.9710144927536233,\n",
       "  'SOUTER': 0.9569031273836766,\n",
       "  'STEVENS': 0.9255372313843079,\n",
       "  'THOMAS': 0.8887065901011759,\n",
       "  'WHITE': 0.977743271221532},\n",
       " 'SOTOMAYOR': {'ALITO': 0.7771739130434783,\n",
       "  'BLACKMUN': 0.9973958333333334,\n",
       "  'BRENNAN': 1.0,\n",
       "  'BREYER': 1.0,\n",
       "  'GINSBURG': 0.9338235294117647,\n",
       "  'KAGAN': 1.0,\n",
       "  'KENNEDY': 0.9402573529411765,\n",
       "  'MARSHALL': 1.0,\n",
       "  'OCONNOR': 0.9328703703703703,\n",
       "  'REHNQUIST': 0.9882075471698113,\n",
       "  'ROBERTS': 0.8233695652173914,\n",
       "  'SCALIA': 0.9710144927536233,\n",
       "  'SOUTER': 0.9439102564102564,\n",
       "  'STEVENS': 0.9237288135593221,\n",
       "  'THOMAS': 0.820754716981132,\n",
       "  'WHITE': 1.0},\n",
       " 'SOUTER': {'ALITO': 0.9941724941724941,\n",
       "  'BLACKMUN': 0.9843924191750278,\n",
       "  'BRENNAN': 1.0,\n",
       "  'BREYER': 1.0,\n",
       "  'GINSBURG': 0.9876923076923076,\n",
       "  'KAGAN': 1.0,\n",
       "  'KENNEDY': 0.9566563467492261,\n",
       "  'MARSHALL': 0.9728506787330315,\n",
       "  'OCONNOR': 0.919103313840156,\n",
       "  'REHNQUIST': 0.9379344587884807,\n",
       "  'ROBERTS': 0.9977116704805493,\n",
       "  'SCALIA': 0.9569031273836766,\n",
       "  'SOTOMAYOR': 0.9439102564102564,\n",
       "  'STEVENS': 0.9770114942528735,\n",
       "  'THOMAS': 0.9334657398212513,\n",
       "  'WHITE': 0.9360902255639099},\n",
       " 'STEVENS': {'ALITO': 0.9884437596302003,\n",
       "  'BLACKMUN': 0.9513633014001474,\n",
       "  'BRENNAN': 0.8229885057471265,\n",
       "  'BREYER': 0.9978448275862069,\n",
       "  'GINSBURG': 0.9889655172413794,\n",
       "  'KAGAN': 1.0,\n",
       "  'KENNEDY': 0.9386409736308317,\n",
       "  'MARSHALL': 0.8574277168494516,\n",
       "  'OCONNOR': 0.85727969348659,\n",
       "  'REHNQUIST': 0.9466493168510085,\n",
       "  'ROBERTS': 0.9662668665667167,\n",
       "  'SCALIA': 0.9255372313843079,\n",
       "  'SOTOMAYOR': 0.9237288135593221,\n",
       "  'SOUTER': 0.9770114942528735,\n",
       "  'THOMAS': 0.8747560182173065,\n",
       "  'WHITE': 0.7857142857142857},\n",
       " 'THOMAS': {'ALITO': 0.83704974271012,\n",
       "  'BLACKMUN': 0.9729286300246103,\n",
       "  'BRENNAN': 0.9641509433962264,\n",
       "  'BREYER': 0.9911682055399438,\n",
       "  'GINSBURG': 0.9690566037735848,\n",
       "  'KAGAN': 0.9905660377358491,\n",
       "  'KENNEDY': 0.8873473917869035,\n",
       "  'MARSHALL': 1.0,\n",
       "  'OCONNOR': 0.8172606568832984,\n",
       "  'REHNQUIST': 0.9085083659665362,\n",
       "  'ROBERTS': 0.8826907301066447,\n",
       "  'SCALIA': 0.8887065901011759,\n",
       "  'SOTOMAYOR': 0.820754716981132,\n",
       "  'SOUTER': 0.9334657398212513,\n",
       "  'STEVENS': 0.8747560182173065,\n",
       "  'WHITE': 0.9912398921832885},\n",
       " 'WHITE': {'ALITO': 0.9837662337662338,\n",
       "  'BLACKMUN': 0.796583850931677,\n",
       "  'BRENNAN': 0.8119047619047619,\n",
       "  'BREYER': 0.9878419452887539,\n",
       "  'GINSBURG': 0.98,\n",
       "  'KAGAN': 1.0,\n",
       "  'KENNEDY': 0.8986344537815126,\n",
       "  'MARSHALL': 0.6743697478991597,\n",
       "  'OCONNOR': 0.8525132275132274,\n",
       "  'REHNQUIST': 0.8847708894878706,\n",
       "  'ROBERTS': 0.9953416149068324,\n",
       "  'SCALIA': 0.977743271221532,\n",
       "  'SOTOMAYOR': 1.0,\n",
       "  'SOUTER': 0.9360902255639099,\n",
       "  'STEVENS': 0.7857142857142857,\n",
       "  'THOMAS': 0.9912398921832885}}"
      ]
     },
     "execution_count": 141,
     "metadata": {},
     "output_type": "execute_result"
    }
   ],
   "source": [
    "roc_scores = {}\n",
    "for judge_1 in nb_results.keys():\n",
    "    for judge_2 in nb_results[judge_1].keys():\n",
    "        true = nb_results[judge_1][judge_2][0]\n",
    "        probs = nb_results[judge_1][judge_2][1]\n",
    "        if roc_scores.get(judge_1):\n",
    "            roc_scores[judge_1][judge_2] = roc_auc_score(true, probs)\n",
    "        else:\n",
    "            roc_scores[judge_1] = {judge_2 : roc_auc_score(true,probs)}\n",
    "        \n",
    "roc_scores"
   ]
  },
  {
   "cell_type": "code",
   "execution_count": 250,
   "metadata": {
    "scrolled": false
   },
   "outputs": [
    {
     "data": {
      "text/plain": [
       "Text(0.5,1,'AUC-ROC score heatmap')"
      ]
     },
     "execution_count": 250,
     "metadata": {},
     "output_type": "execute_result"
    },
    {
     "data": {
      "image/png": "[encoded data removed]",
      "text/plain": [
       "<matplotlib.figure.Figure at 0x1a69580358>"
      ]
     },
     "metadata": {},
     "output_type": "display_data"
    }
   ],
   "source": [
    "# Plot auc-roc scores.\n",
    "roc_df = pd.DataFrame.from_dict(roc_scores)\n",
    "fig, ax = plt.subplots(figsize = (15,10))\n",
    "mask = np.triu(np.ones((roc_df.shape[0], roc_df.shape[1])))\n",
    "sns.heatmap(roc_df,vmin = 0.5, vmax = 1.0, center = 0.75, cmap = 'RdYlGn', annot=True, mask = mask)\n",
    "ax.set_title(\"AUC-ROC score heatmap\")"
   ]
  },
  {
   "cell_type": "code",
   "execution_count": 245,
   "metadata": {},
   "outputs": [
    {
     "data": {
      "image/png": "[encoded data removed]",
      "text/plain": [
       "<matplotlib.figure.Figure at 0x1a62cb46d8>"
      ]
     },
     "metadata": {},
     "output_type": "display_data"
    }
   ],
   "source": [
    "acc_scores = {}\n",
    "for judge_1 in nb_results.keys():\n",
    "    for judge_2 in nb_results[judge_1].keys():\n",
    "        true = nb_results[judge_1][judge_2][0]\n",
    "        preds = nb_results[judge_1][judge_2][2]\n",
    "        if acc_scores.get(judge_1):\n",
    "            acc_scores[judge_1][judge_2] = accuracy_score(true, preds)\n",
    "        else:\n",
    "            acc_scores[judge_1] = {judge_2 : accuracy_score(true,preds)}\n",
    "acc_df = pd.DataFrame.from_dict(acc_scores)\n",
    "\n",
    "# Plot accuracy heatmap\n",
    "fig, ax = plt.subplots(figsize = (15, 10))\n",
    "mask = np.triu(np.ones((acc_df.shape[0], acc_df.shape[1])))\n",
    "sns.heatmap(acc_df,vmin = 0, vmax = 1.0, annot=True, mask = mask)\n",
    "plt.tick_params(bottom=False,left=False)\n",
    "ax.set_title(\"Accuracy Heatmap\")\n",
    "plt.show();"
   ]
  },
  {
   "cell_type": "markdown",
   "metadata": {},
   "source": [
    "### Multi-authorship Detection via Function-Word Frequency Analysis\n",
    "\n",
    "- The frequency of certain words is hypothesized to be constant and topic-invariant for a given author\n",
    "- We can model the variance of an author's use-frequency using a chi-squared statistic\n",
    "- To compare authors, we can generate a sample of variance estimates (via bootstrapping) for each author and then perform a difference-of-means test\n",
    "\n",
    "This closely follows work done in Rosenthal Yoon's article [Detecting Multiple Authorship of United States Supreme Court Legal Decisions Using Function Words](https://arxiv.org/pdf/1104.2974.pdf)"
   ]
  },
  {
   "cell_type": "code",
   "execution_count": 168,
   "metadata": {},
   "outputs": [],
   "source": [
    "# Funciton words used in Rosenthal Yoon 2011 \n",
    "function_words = \"\"\"a, all, also, an, and, any, are, as, at, be, been, but, by, can, do, down, even, for, from,\n",
    "had, has, have, her, his, if, in, into, is, it, its, may,more, must, no, not, now, of, on,\n",
    "one, only, or, our, so, some, such, than, that, the, their, then, there, things, this, to,\n",
    "up, was, were, what, when, which, who, with, would\"\"\".split(\",\")\n",
    "\n",
    "# Cleaning up line breaks.\n",
    "function_words = [x.strip(\"\\n \") for x in function_words]"
   ]
  },
  {
   "cell_type": "code",
   "execution_count": 169,
   "metadata": {
    "scrolled": false
   },
   "outputs": [],
   "source": [
    "# Get word counts\n",
    "regex = r\"(\\b[a-zA-Z'\\\\\\[\\]]+\\b)\"\n",
    "total_words = full_df['Text'].map(lambda x: len(re.findall(regex,x)))"
   ]
  },
  {
   "cell_type": "code",
   "execution_count": 170,
   "metadata": {},
   "outputs": [
    {
     "data": {
      "text/html": [
       "<div>\n",
       "<style scoped>\n",
       "    .dataframe tbody tr th:only-of-type {\n",
       "        vertical-align: middle;\n",
       "    }\n",
       "\n",
       "    .dataframe tbody tr th {\n",
       "        vertical-align: top;\n",
       "    }\n",
       "\n",
       "    .dataframe thead th {\n",
       "        text-align: right;\n",
       "    }\n",
       "</style>\n",
       "<table border=\"1\" class=\"dataframe\">\n",
       "  <thead>\n",
       "    <tr style=\"text-align: right;\">\n",
       "      <th></th>\n",
       "      <th>a</th>\n",
       "      <th>all</th>\n",
       "      <th>also</th>\n",
       "      <th>an</th>\n",
       "      <th>and</th>\n",
       "      <th>any</th>\n",
       "      <th>are</th>\n",
       "      <th>as</th>\n",
       "      <th>at</th>\n",
       "      <th>be</th>\n",
       "      <th>...</th>\n",
       "      <th>up</th>\n",
       "      <th>was</th>\n",
       "      <th>were</th>\n",
       "      <th>what</th>\n",
       "      <th>when</th>\n",
       "      <th>which</th>\n",
       "      <th>who</th>\n",
       "      <th>with</th>\n",
       "      <th>would</th>\n",
       "      <th>total</th>\n",
       "    </tr>\n",
       "  </thead>\n",
       "  <tbody>\n",
       "    <tr>\n",
       "      <th>0</th>\n",
       "      <td>118</td>\n",
       "      <td>3</td>\n",
       "      <td>12</td>\n",
       "      <td>28</td>\n",
       "      <td>90</td>\n",
       "      <td>5</td>\n",
       "      <td>8</td>\n",
       "      <td>12</td>\n",
       "      <td>52</td>\n",
       "      <td>31</td>\n",
       "      <td>...</td>\n",
       "      <td>0</td>\n",
       "      <td>37</td>\n",
       "      <td>6</td>\n",
       "      <td>4</td>\n",
       "      <td>21</td>\n",
       "      <td>13</td>\n",
       "      <td>16</td>\n",
       "      <td>16</td>\n",
       "      <td>30</td>\n",
       "      <td>3734</td>\n",
       "    </tr>\n",
       "    <tr>\n",
       "      <th>1</th>\n",
       "      <td>62</td>\n",
       "      <td>1</td>\n",
       "      <td>1</td>\n",
       "      <td>9</td>\n",
       "      <td>43</td>\n",
       "      <td>7</td>\n",
       "      <td>2</td>\n",
       "      <td>11</td>\n",
       "      <td>29</td>\n",
       "      <td>6</td>\n",
       "      <td>...</td>\n",
       "      <td>0</td>\n",
       "      <td>41</td>\n",
       "      <td>3</td>\n",
       "      <td>1</td>\n",
       "      <td>6</td>\n",
       "      <td>5</td>\n",
       "      <td>2</td>\n",
       "      <td>15</td>\n",
       "      <td>3</td>\n",
       "      <td>2780</td>\n",
       "    </tr>\n",
       "    <tr>\n",
       "      <th>2</th>\n",
       "      <td>235</td>\n",
       "      <td>14</td>\n",
       "      <td>11</td>\n",
       "      <td>5</td>\n",
       "      <td>51</td>\n",
       "      <td>25</td>\n",
       "      <td>7</td>\n",
       "      <td>23</td>\n",
       "      <td>41</td>\n",
       "      <td>38</td>\n",
       "      <td>...</td>\n",
       "      <td>0</td>\n",
       "      <td>14</td>\n",
       "      <td>1</td>\n",
       "      <td>1</td>\n",
       "      <td>16</td>\n",
       "      <td>42</td>\n",
       "      <td>2</td>\n",
       "      <td>22</td>\n",
       "      <td>21</td>\n",
       "      <td>4647</td>\n",
       "    </tr>\n",
       "    <tr>\n",
       "      <th>3</th>\n",
       "      <td>231</td>\n",
       "      <td>29</td>\n",
       "      <td>30</td>\n",
       "      <td>50</td>\n",
       "      <td>231</td>\n",
       "      <td>31</td>\n",
       "      <td>62</td>\n",
       "      <td>94</td>\n",
       "      <td>216</td>\n",
       "      <td>87</td>\n",
       "      <td>...</td>\n",
       "      <td>5</td>\n",
       "      <td>43</td>\n",
       "      <td>20</td>\n",
       "      <td>28</td>\n",
       "      <td>21</td>\n",
       "      <td>21</td>\n",
       "      <td>9</td>\n",
       "      <td>37</td>\n",
       "      <td>51</td>\n",
       "      <td>12196</td>\n",
       "    </tr>\n",
       "    <tr>\n",
       "      <th>4</th>\n",
       "      <td>180</td>\n",
       "      <td>16</td>\n",
       "      <td>12</td>\n",
       "      <td>64</td>\n",
       "      <td>195</td>\n",
       "      <td>38</td>\n",
       "      <td>16</td>\n",
       "      <td>54</td>\n",
       "      <td>151</td>\n",
       "      <td>62</td>\n",
       "      <td>...</td>\n",
       "      <td>9</td>\n",
       "      <td>82</td>\n",
       "      <td>44</td>\n",
       "      <td>11</td>\n",
       "      <td>12</td>\n",
       "      <td>22</td>\n",
       "      <td>4</td>\n",
       "      <td>65</td>\n",
       "      <td>44</td>\n",
       "      <td>10414</td>\n",
       "    </tr>\n",
       "  </tbody>\n",
       "</table>\n",
       "<p>5 rows × 64 columns</p>\n",
       "</div>"
      ],
      "text/plain": [
       "     a  all  also  an  and  any  are  as   at  be  ...    up  was  were  what  \\\n",
       "0  118    3    12  28   90    5    8  12   52  31  ...     0   37     6     4   \n",
       "1   62    1     1   9   43    7    2  11   29   6  ...     0   41     3     1   \n",
       "2  235   14    11   5   51   25    7  23   41  38  ...     0   14     1     1   \n",
       "3  231   29    30  50  231   31   62  94  216  87  ...     5   43    20    28   \n",
       "4  180   16    12  64  195   38   16  54  151  62  ...     9   82    44    11   \n",
       "\n",
       "   when  which  who  with  would  total  \n",
       "0    21     13   16    16     30   3734  \n",
       "1     6      5    2    15      3   2780  \n",
       "2    16     42    2    22     21   4647  \n",
       "3    21     21    9    37     51  12196  \n",
       "4    12     22    4    65     44  10414  \n",
       "\n",
       "[5 rows x 64 columns]"
      ]
     },
     "execution_count": 170,
     "metadata": {},
     "output_type": "execute_result"
    }
   ],
   "source": [
    "# Make a dataframe with counts of function words.\n",
    "# By analyzing frequencies and wordcounts, we can detect\n",
    "# multiple authorship, since (by hypothesis) the \n",
    "# frequency of function words is stable for a given author.\n",
    "cvec = CountVectorizer(vocabulary = function_words, token_pattern = r\"(?u)\\b\\w+\\b\")\n",
    "cvec.fit(full_df['masked_text'])\n",
    "counts = cvec.transform(full_df['masked_text'])\n",
    "\n",
    "counts_df = pd.DataFrame(counts.todense(), columns = cvec.get_feature_names())\n",
    "counts_df['total'] = total_words\n",
    "\n",
    "counts_df.head()"
   ]
  },
  {
   "cell_type": "code",
   "execution_count": 171,
   "metadata": {
    "scrolled": true
   },
   "outputs": [],
   "source": [
    "# Compute chisq/df statistic for a judge.\n",
    "# We'll use matrix ops to speed up the computations.\n",
    "def var(judge, df=None):\n",
    "    if df is None:\n",
    "        df = counts_df[full_df['Author']==judge]\n",
    "    k = df.shape[0]\n",
    "    ws = df['total']\n",
    "    # This vector stores the sum of c(i,j) with respect to i.\n",
    "    cij_sums = df.apply(np.sum)\n",
    "    # Since j=0 is a special edge case, we'll treat it separately here.\n",
    "    c0s = df['total']-df.iloc[:,:-1].apply(np.sum, axis=1)\n",
    "    # Total number of words is a term that appears in many computations, so we'll store it for later use.\n",
    "    total_w = np.sum(ws)\n",
    "    # Build out matrix of e(i,j) terms.\n",
    "    e = np.zeros((k,64))\n",
    "    for i in range(1,k+1):\n",
    "        for j in range(1, 64):\n",
    "            # multiply the ith wordcount by the jth c(i,j) sum, then divide by total words\n",
    "            e[i-1][j-1] += ((ws.iloc[i-1]*cij_sums.iloc[j-1])/total_w)\n",
    "    # compute vector of e(i,0)\n",
    "    e0s = ws*np.sum(c0s)/total_w\n",
    "    ((c0s-e0s)**2)/e0s\n",
    "    return ((((df-e)**2)/e).iloc[:,:-1].sum().sum()+np.sum(((c0s-e0s)**2)/e0s))/(63*(k-1))"
   ]
  },
  {
   "cell_type": "code",
   "execution_count": 172,
   "metadata": {},
   "outputs": [
    {
     "name": "stdout",
     "output_type": "stream",
     "text": [
      "2.9739261930384333\n",
      "0.43902087211608887\n"
     ]
    }
   ],
   "source": [
    "# Check computation time\n",
    "start_time = time.time()\n",
    "print(var(\"SCALIA\"))\n",
    "print(time.time()-start_time)"
   ]
  },
  {
   "cell_type": "code",
   "execution_count": 173,
   "metadata": {},
   "outputs": [],
   "source": [
    "# Compute bootstrapped variance scores.\n",
    "# Pick n cases with replacement written by this author,\n",
    "# compute the function word variance for these opinions,\n",
    "# and repeat m times.  Return the resulting list of variance scores.\n",
    "def bootstrap(judge, n=100,m=1000):\n",
    "    judge_df = counts_df[full_df['Author']==judge]\n",
    "    k = judge_df.shape[0]\n",
    "    cases = np.random.randint(0,k,(m,n))\n",
    "    var_bs = np.zeros(m)\n",
    "    for i in range(m):\n",
    "        var_bs[i] = var(judge, judge_df.iloc[cases[i],:])\n",
    "    return var_bs"
   ]
  },
  {
   "cell_type": "code",
   "execution_count": 174,
   "metadata": {},
   "outputs": [
    {
     "name": "stdout",
     "output_type": "stream",
     "text": [
      "Done with ALITO!\n",
      "Done with STEVENS!\n",
      "Done with SOUTER!\n",
      "Done with KAGAN!\n",
      "Done with ROBERTS!\n",
      "Done with GORSUCH!\n",
      "Done with BREYER!\n",
      "Done with BLACKMUN!\n",
      "Done with OCONNOR!\n",
      "Done with KENNEDY!\n",
      "Done with SCALIA!\n",
      "Done with MARSHALL!\n",
      "Done with WHITE!\n",
      "Done with CHIEF!\n",
      "Done with THOMAS!\n",
      "Done with GINSBURG!\n",
      "Done with POWELL!\n",
      "Done with BRENNAN!\n",
      "Done with REHNQUIST!\n",
      "Done with SOTOMAYOR!\n"
     ]
    }
   ],
   "source": [
    "# Store variance scores in a dictionary.\n",
    "bootstrap_variances = dict()\n",
    "for judge in judges:\n",
    "    bootstrap_variances[judge]=bootstrap(judge)\n",
    "    print(f\"Done with {judge}!\")"
   ]
  },
  {
   "cell_type": "code",
   "execution_count": 176,
   "metadata": {},
   "outputs": [],
   "source": [
    "# Build a 95% confidence interval for differences in variance sets\n",
    "def conf_int(a,b):\n",
    "    differences = np.zeros(len(a)*len(b))\n",
    "    for i,val_i in enumerate(a):\n",
    "        for j,val_j in enumerate(b):\n",
    "            differences[len(a)*i + j] = val_i-val_j\n",
    "    return pd.Series(differences).quantile([0.025, 0.975])"
   ]
  },
  {
   "cell_type": "code",
   "execution_count": 192,
   "metadata": {},
   "outputs": [],
   "source": [
    "# Store confidence intervals in a nested dictionary format\n",
    "judge_pairs = list(itertools.combinations(judges,2))\n",
    "cis = {}\n",
    "for (first, second) in judge_pairs:\n",
    "    if cis.get(first):\n",
    "        cis[first][second] = list(conf_int(bootstrap_variances[first], bootstrap_variances[second]))\n",
    "    else:\n",
    "        cis[first] = {second : list(conf_int(bootstrap_variances[first], bootstrap_variances[second]))}\n",
    "    if cis.get(second):\n",
    "        cis[second][first] = list(conf_int(bootstrap_variances[second], bootstrap_variances[first]))\n",
    "    else:\n",
    "        cis[second] = {first: list(conf_int(bootstrap_variances[second], bootstrap_variances[first]))}"
   ]
  },
  {
   "cell_type": "code",
   "execution_count": 223,
   "metadata": {
    "scrolled": false
   },
   "outputs": [
    {
     "data": {
      "text/plain": [
       "<matplotlib.axes._subplots.AxesSubplot at 0x1a619b5ef0>"
      ]
     },
     "execution_count": 223,
     "metadata": {},
     "output_type": "execute_result"
    },
    {
     "data": {
      "image/png": "[encoded data removed]",
      "text/plain": [
       "<matplotlib.figure.Figure at 0x1a619aba90>"
      ]
     },
     "metadata": {},
     "output_type": "display_data"
    }
   ],
   "source": [
    "# Plot heatmap of which judges have more (blue) or less(red) variance in their function word frequencies.\n",
    "\n",
    "cis_df = pd.DataFrame.from_dict(cis, orient='index').fillna(0)\n",
    "cis_df = cis_df.drop('CHIEF',axis=0)\n",
    "cis_df = cis_df.drop('CHIEF', axis=1)\n",
    "sign_df = cis_df.applymap(lambda x: 0 if x == 0 else 0 if np.sign(x[0]*x[1]) == -1 else np.sign(x[0]))\n",
    "sign_df = sign_df.reindex(sorted(sign_df.columns),axis=1)\n",
    "\n",
    "# Plot whether the confindence intervals were above 0, contained 0, or were below 0\n",
    "fig, ax = plt.subplots(figsize = (12, 9))\n",
    "mask = np.ones((sign_df.shape[0], sign_df.shape[1]))\n",
    "for i in range(mask.shape[0]):\n",
    "    for j in range(mask.shape[1]):\n",
    "        if i >= j:\n",
    "            mask[i][j] = 0\n",
    "sns.heatmap(sign_df, cmap = 'RdYlBu', mask=mask)"
   ]
  },
  {
   "cell_type": "markdown",
   "metadata": {},
   "source": [
    "### Document Similarity using doc2vec (gensim)\n",
    "\n",
    "*\"You shall know a word by the company it keeps.\"* - John Firth, linguist\n",
    "\n",
    "Doc2vec augments word2vec with an extra input representing the document containing the context words (in the distributed-memory model) or the target word (in the distributed-bag-of-words model).\n",
    "\n",
    "As a review, word2vec goes through each sentence with a sliding window, producing (word, context words) pairs.  Vectors are built for each word, and in the Continuous Bag-of-Words model they are used to predict a word given context words.  According to the Distributional Hypothesis, words used in similar contexts have similar meanings.\n",
    "\n",
    "By representing each document as a vector, we can compute similarity metrics (e.g. cosine similarity) that (as we shall see) are surprisingly good at capturing semantic features between texts."
   ]
  },
  {
   "cell_type": "code",
   "execution_count": 61,
   "metadata": {},
   "outputs": [],
   "source": [
    "# 10-20 epochs are common in publishments\n",
    "# vec_size in original Mikolov paper was 400, gensim intro used 100, 250 is a nice compromise\n",
    "# Common practice is to reduce learning rate over each epoch of training\n",
    "max_epochs = 20\n",
    "vec_size = 250\n",
    "alpha = 0.025\n",
    "\n",
    "# Build a DM model\n",
    "model = Doc2Vec(vector_size=vec_size,\n",
    "                alpha=alpha, \n",
    "                min_alpha=0.00025,\n",
    "                min_count=1,\n",
    "                dm =1,\n",
    "                window=10,\n",
    "               workers=24)\n",
    "\n",
    "model.build_vocab(full_df['docs'])"
   ]
  },
  {
   "cell_type": "code",
   "execution_count": 62,
   "metadata": {},
   "outputs": [
    {
     "name": "stdout",
     "output_type": "stream",
     "text": [
      "iteration 0\n",
      "0.0\n",
      "iteration 1\n",
      "0.0\n",
      "iteration 2\n",
      "0.0\n",
      "iteration 3\n",
      "0.0\n",
      "iteration 4\n",
      "0.0\n",
      "iteration 5\n",
      "0.0\n",
      "iteration 6\n",
      "0.0\n",
      "iteration 7\n",
      "0.0\n",
      "iteration 8\n",
      "0.0\n",
      "iteration 9\n",
      "0.0\n",
      "iteration 10\n",
      "0.0\n",
      "iteration 11\n",
      "0.0\n",
      "iteration 12\n",
      "0.0\n",
      "iteration 13\n",
      "0.0\n",
      "iteration 14\n",
      "0.0\n",
      "iteration 15\n",
      "0.0\n",
      "iteration 16\n",
      "0.0\n",
      "iteration 17\n",
      "0.0\n",
      "iteration 18\n",
      "0.0\n",
      "iteration 19\n",
      "0.0\n"
     ]
    }
   ],
   "source": [
    "# Train the model\n",
    "for epoch in range(max_epochs):\n",
    "    print('iteration {0}'.format(epoch))\n",
    "    model.train(full_df['docs'],\n",
    "                total_examples=model.corpus_count,\n",
    "                epochs=model.epochs)\n",
    "    # decrease the learning rate\n",
    "    model.alpha -= 0.0002\n",
    "    # fix the learning rate, no decay\n",
    "    model.min_alpha = model.alpha"
   ]
  },
  {
   "cell_type": "code",
   "execution_count": 65,
   "metadata": {},
   "outputs": [
    {
     "name": "stdout",
     "output_type": "stream",
     "text": [
      "576 U.S. 14-556\n",
      "532 U.S. 318\n",
      "505 U.S. 833\n",
      "570 U.S. 12-307\n",
      "530 U.S. 640\n",
      "521 U.S. 702\n",
      "517 U.S. 620\n",
      "572 U.S. 12-682\n",
      "520 U.S. 259\n",
      "524 U.S. 666\n"
     ]
    }
   ],
   "source": [
    "# Test against some famous cases\n",
    "sim = model.docvecs.most_similar(lawrence_v_texas)\n",
    "for (case, _) in sim:\n",
    "    print(f\"{full_df.loc[case,'Volume']}\" + ' U.S. '+f\"{full_df.loc[case,'Case']}\")"
   ]
  },
  {
   "cell_type": "markdown",
   "metadata": {},
   "source": [
    "The first result is *Obergefell v. Hodges*, which legalized same-sex marriage.  \n",
    "The second result is *Atwater v. Lago Vista*, a 4th amendment case involving \"a balancing of individual and governmental interests.\"  \n",
    "The third result is *Planned Parenthood v. Casey*, a case that established the appropriate level of judicial scrutiny for abortion restrictions.\n",
    "\n",
    "These all seem pretty closely related to *Lawrence v. Texas*, from a lay perspective."
   ]
  },
  {
   "cell_type": "code",
   "execution_count": 139,
   "metadata": {},
   "outputs": [
    {
     "name": "stdout",
     "output_type": "stream",
     "text": [
      "561 U.S. 742\n",
      "527 U.S. 706\n",
      "514 U.S. 779\n",
      "526 U.S. 603\n",
      "501 U.S. 957\n",
      "523 U.S. 65\n",
      "521 U.S. 507\n",
      "529 U.S. 598\n",
      "514 U.S. 211\n",
      "519 U.S. 408\n"
     ]
    }
   ],
   "source": [
    "sim = model.docvecs.most_similar(dc_v_heller)\n",
    "for (case, _) in sim:\n",
    "    print(f\"{full_df.loc[case,'Volume']}\" + ' U.S. '+f\"{full_df.loc[case,'Case']}\")"
   ]
  },
  {
   "cell_type": "markdown",
   "metadata": {},
   "source": [
    "The first case is *McDonald v. City of Chicago*, a 2nd Amendment case.  \n",
    "The second case is *Alden v. Maine*, a case involving the sovereign immunity of states from suits.  \n",
    "The third case is *U.S. Term Limits, Inc. v. Thornton*, a case about states imposing stricter restrictions than the Constitution on representatives.  \n",
    "\n",
    "These also seem very close to *D.C. v Heller*."
   ]
  },
  {
   "cell_type": "code",
   "execution_count": 140,
   "metadata": {},
   "outputs": [
    {
     "name": "stdout",
     "output_type": "stream",
     "text": [
      "551 U.S. 449\n",
      "479 U.S. 238\n",
      "539 U.S. 146\n",
      "494 U.S. 652\n",
      "572 U.S. 12-536\n",
      "518 U.S. 604\n",
      "512 U.S. 622\n",
      "533 U.S. 431\n",
      "564 U.S. 721\n",
      "514 U.S. 334\n"
     ]
    }
   ],
   "source": [
    "sim = model.docvecs.most_similar(citizens_united)\n",
    "for (case, _) in sim:\n",
    "    print(f\"{full_df.loc[case,'Volume']}\" + ' U.S. '+f\"{full_df.loc[case,'Case']}\")"
   ]
  },
  {
   "cell_type": "markdown",
   "metadata": {},
   "source": [
    "The first case is *FEC v. Wisconsin Right to Life, Inc.*, which held that issue ads cannot be banned based on their proximity to an election.  \n",
    "The second case is *FEC v. MASSACHUSETTS CITIZENS FOR LIFE, INC.*, a case involving election finance restrictions.\n",
    "The third case is *Federal Election Comm'n v. Beaumont*, a case involving the extent to which corporations can spend money in political pursuits.\n",
    "\n",
    "These also seem closely related to *Citizens United*."
   ]
  }
 ],
 "metadata": {
  "kernelspec": {
   "display_name": "Python 3",
   "language": "python",
   "name": "python3"
  },
  "varInspector": {
   "cols": {
    "lenName": 16,
    "lenType": 16,
    "lenVar": 40
   },
   "kernels_config": {
    "python": {
     "delete_cmd_postfix": "",
     "delete_cmd_prefix": "del ",
     "library": "var_list.py",
     "varRefreshCmd": "print(var_dic_list())"
    },
    "r": {
     "delete_cmd_postfix": ") ",
     "delete_cmd_prefix": "rm(",
     "library": "var_list.r",
     "varRefreshCmd": "cat(var_dic_list()) "
    }
   },
   "position": {
    "height": "383px",
    "left": "1310px",
    "right": "20px",
    "top": "120px",
    "width": "327px"
   },
   "types_to_exclude": [
    "module",
    "function",
    "builtin_function_or_method",
    "instance",
    "_Feature"
   ],
   "window_display": false
  }
 },
 "nbformat": 4,
 "nbformat_minor": 2
}
